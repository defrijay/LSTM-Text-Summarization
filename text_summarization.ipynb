{
 "cells": [
  {
   "cell_type": "code",
   "execution_count": 1,
   "metadata": {},
   "outputs": [
    {
     "name": "stdout",
     "output_type": "stream",
     "text": [
      "Requirement already satisfied: tensorflow in c:\\universitas pendidikan indonesia\\college\\semester 5\\natural language processing\\task2\\many-to-many\\myenv\\lib\\site-packages (2.18.0)\n",
      "Requirement already satisfied: tensorflow-intel==2.18.0 in c:\\universitas pendidikan indonesia\\college\\semester 5\\natural language processing\\task2\\many-to-many\\myenv\\lib\\site-packages (from tensorflow) (2.18.0)\n",
      "Requirement already satisfied: absl-py>=1.0.0 in c:\\universitas pendidikan indonesia\\college\\semester 5\\natural language processing\\task2\\many-to-many\\myenv\\lib\\site-packages (from tensorflow-intel==2.18.0->tensorflow) (2.1.0)\n",
      "Requirement already satisfied: astunparse>=1.6.0 in c:\\universitas pendidikan indonesia\\college\\semester 5\\natural language processing\\task2\\many-to-many\\myenv\\lib\\site-packages (from tensorflow-intel==2.18.0->tensorflow) (1.6.3)\n",
      "Requirement already satisfied: flatbuffers>=24.3.25 in c:\\universitas pendidikan indonesia\\college\\semester 5\\natural language processing\\task2\\many-to-many\\myenv\\lib\\site-packages (from tensorflow-intel==2.18.0->tensorflow) (24.3.25)\n",
      "Requirement already satisfied: gast!=0.5.0,!=0.5.1,!=0.5.2,>=0.2.1 in c:\\universitas pendidikan indonesia\\college\\semester 5\\natural language processing\\task2\\many-to-many\\myenv\\lib\\site-packages (from tensorflow-intel==2.18.0->tensorflow) (0.6.0)\n",
      "Requirement already satisfied: google-pasta>=0.1.1 in c:\\universitas pendidikan indonesia\\college\\semester 5\\natural language processing\\task2\\many-to-many\\myenv\\lib\\site-packages (from tensorflow-intel==2.18.0->tensorflow) (0.2.0)\n",
      "Requirement already satisfied: libclang>=13.0.0 in c:\\universitas pendidikan indonesia\\college\\semester 5\\natural language processing\\task2\\many-to-many\\myenv\\lib\\site-packages (from tensorflow-intel==2.18.0->tensorflow) (18.1.1)\n",
      "Requirement already satisfied: opt-einsum>=2.3.2 in c:\\universitas pendidikan indonesia\\college\\semester 5\\natural language processing\\task2\\many-to-many\\myenv\\lib\\site-packages (from tensorflow-intel==2.18.0->tensorflow) (3.4.0)\n",
      "Requirement already satisfied: packaging in c:\\universitas pendidikan indonesia\\college\\semester 5\\natural language processing\\task2\\many-to-many\\myenv\\lib\\site-packages (from tensorflow-intel==2.18.0->tensorflow) (24.1)\n",
      "Requirement already satisfied: protobuf!=4.21.0,!=4.21.1,!=4.21.2,!=4.21.3,!=4.21.4,!=4.21.5,<6.0.0dev,>=3.20.3 in c:\\universitas pendidikan indonesia\\college\\semester 5\\natural language processing\\task2\\many-to-many\\myenv\\lib\\site-packages (from tensorflow-intel==2.18.0->tensorflow) (5.28.3)\n",
      "Requirement already satisfied: requests<3,>=2.21.0 in c:\\universitas pendidikan indonesia\\college\\semester 5\\natural language processing\\task2\\many-to-many\\myenv\\lib\\site-packages (from tensorflow-intel==2.18.0->tensorflow) (2.32.3)\n",
      "Requirement already satisfied: setuptools in c:\\universitas pendidikan indonesia\\college\\semester 5\\natural language processing\\task2\\many-to-many\\myenv\\lib\\site-packages (from tensorflow-intel==2.18.0->tensorflow) (75.3.0)\n",
      "Requirement already satisfied: six>=1.12.0 in c:\\universitas pendidikan indonesia\\college\\semester 5\\natural language processing\\task2\\many-to-many\\myenv\\lib\\site-packages (from tensorflow-intel==2.18.0->tensorflow) (1.16.0)\n",
      "Requirement already satisfied: termcolor>=1.1.0 in c:\\universitas pendidikan indonesia\\college\\semester 5\\natural language processing\\task2\\many-to-many\\myenv\\lib\\site-packages (from tensorflow-intel==2.18.0->tensorflow) (2.5.0)\n",
      "Requirement already satisfied: typing-extensions>=3.6.6 in c:\\universitas pendidikan indonesia\\college\\semester 5\\natural language processing\\task2\\many-to-many\\myenv\\lib\\site-packages (from tensorflow-intel==2.18.0->tensorflow) (4.12.2)\n",
      "Requirement already satisfied: wrapt>=1.11.0 in c:\\universitas pendidikan indonesia\\college\\semester 5\\natural language processing\\task2\\many-to-many\\myenv\\lib\\site-packages (from tensorflow-intel==2.18.0->tensorflow) (1.16.0)\n",
      "Requirement already satisfied: grpcio<2.0,>=1.24.3 in c:\\universitas pendidikan indonesia\\college\\semester 5\\natural language processing\\task2\\many-to-many\\myenv\\lib\\site-packages (from tensorflow-intel==2.18.0->tensorflow) (1.67.1)\n",
      "Requirement already satisfied: tensorboard<2.19,>=2.18 in c:\\universitas pendidikan indonesia\\college\\semester 5\\natural language processing\\task2\\many-to-many\\myenv\\lib\\site-packages (from tensorflow-intel==2.18.0->tensorflow) (2.18.0)\n",
      "Requirement already satisfied: keras>=3.5.0 in c:\\universitas pendidikan indonesia\\college\\semester 5\\natural language processing\\task2\\many-to-many\\myenv\\lib\\site-packages (from tensorflow-intel==2.18.0->tensorflow) (3.6.0)\n",
      "Requirement already satisfied: numpy<2.1.0,>=1.26.0 in c:\\universitas pendidikan indonesia\\college\\semester 5\\natural language processing\\task2\\many-to-many\\myenv\\lib\\site-packages (from tensorflow-intel==2.18.0->tensorflow) (2.0.2)\n",
      "Requirement already satisfied: h5py>=3.11.0 in c:\\universitas pendidikan indonesia\\college\\semester 5\\natural language processing\\task2\\many-to-many\\myenv\\lib\\site-packages (from tensorflow-intel==2.18.0->tensorflow) (3.12.1)\n",
      "Requirement already satisfied: ml-dtypes<0.5.0,>=0.4.0 in c:\\universitas pendidikan indonesia\\college\\semester 5\\natural language processing\\task2\\many-to-many\\myenv\\lib\\site-packages (from tensorflow-intel==2.18.0->tensorflow) (0.4.1)\n",
      "Requirement already satisfied: wheel<1.0,>=0.23.0 in c:\\universitas pendidikan indonesia\\college\\semester 5\\natural language processing\\task2\\many-to-many\\myenv\\lib\\site-packages (from astunparse>=1.6.0->tensorflow-intel==2.18.0->tensorflow) (0.44.0)\n",
      "Requirement already satisfied: rich in c:\\universitas pendidikan indonesia\\college\\semester 5\\natural language processing\\task2\\many-to-many\\myenv\\lib\\site-packages (from keras>=3.5.0->tensorflow-intel==2.18.0->tensorflow) (13.9.4)\n",
      "Requirement already satisfied: namex in c:\\universitas pendidikan indonesia\\college\\semester 5\\natural language processing\\task2\\many-to-many\\myenv\\lib\\site-packages (from keras>=3.5.0->tensorflow-intel==2.18.0->tensorflow) (0.0.8)\n",
      "Requirement already satisfied: optree in c:\\universitas pendidikan indonesia\\college\\semester 5\\natural language processing\\task2\\many-to-many\\myenv\\lib\\site-packages (from keras>=3.5.0->tensorflow-intel==2.18.0->tensorflow) (0.13.0)\n",
      "Requirement already satisfied: charset-normalizer<4,>=2 in c:\\universitas pendidikan indonesia\\college\\semester 5\\natural language processing\\task2\\many-to-many\\myenv\\lib\\site-packages (from requests<3,>=2.21.0->tensorflow-intel==2.18.0->tensorflow) (3.4.0)\n",
      "Requirement already satisfied: idna<4,>=2.5 in c:\\universitas pendidikan indonesia\\college\\semester 5\\natural language processing\\task2\\many-to-many\\myenv\\lib\\site-packages (from requests<3,>=2.21.0->tensorflow-intel==2.18.0->tensorflow) (3.10)\n",
      "Requirement already satisfied: urllib3<3,>=1.21.1 in c:\\universitas pendidikan indonesia\\college\\semester 5\\natural language processing\\task2\\many-to-many\\myenv\\lib\\site-packages (from requests<3,>=2.21.0->tensorflow-intel==2.18.0->tensorflow) (2.2.3)\n",
      "Requirement already satisfied: certifi>=2017.4.17 in c:\\universitas pendidikan indonesia\\college\\semester 5\\natural language processing\\task2\\many-to-many\\myenv\\lib\\site-packages (from requests<3,>=2.21.0->tensorflow-intel==2.18.0->tensorflow) (2024.8.30)\n",
      "Requirement already satisfied: markdown>=2.6.8 in c:\\universitas pendidikan indonesia\\college\\semester 5\\natural language processing\\task2\\many-to-many\\myenv\\lib\\site-packages (from tensorboard<2.19,>=2.18->tensorflow-intel==2.18.0->tensorflow) (3.7)\n",
      "Requirement already satisfied: tensorboard-data-server<0.8.0,>=0.7.0 in c:\\universitas pendidikan indonesia\\college\\semester 5\\natural language processing\\task2\\many-to-many\\myenv\\lib\\site-packages (from tensorboard<2.19,>=2.18->tensorflow-intel==2.18.0->tensorflow) (0.7.2)\n",
      "Requirement already satisfied: werkzeug>=1.0.1 in c:\\universitas pendidikan indonesia\\college\\semester 5\\natural language processing\\task2\\many-to-many\\myenv\\lib\\site-packages (from tensorboard<2.19,>=2.18->tensorflow-intel==2.18.0->tensorflow) (3.1.2)\n",
      "Requirement already satisfied: MarkupSafe>=2.1.1 in c:\\universitas pendidikan indonesia\\college\\semester 5\\natural language processing\\task2\\many-to-many\\myenv\\lib\\site-packages (from werkzeug>=1.0.1->tensorboard<2.19,>=2.18->tensorflow-intel==2.18.0->tensorflow) (3.0.2)\n",
      "Requirement already satisfied: markdown-it-py>=2.2.0 in c:\\universitas pendidikan indonesia\\college\\semester 5\\natural language processing\\task2\\many-to-many\\myenv\\lib\\site-packages (from rich->keras>=3.5.0->tensorflow-intel==2.18.0->tensorflow) (3.0.0)\n",
      "Requirement already satisfied: pygments<3.0.0,>=2.13.0 in c:\\universitas pendidikan indonesia\\college\\semester 5\\natural language processing\\task2\\many-to-many\\myenv\\lib\\site-packages (from rich->keras>=3.5.0->tensorflow-intel==2.18.0->tensorflow) (2.18.0)\n",
      "Requirement already satisfied: mdurl~=0.1 in c:\\universitas pendidikan indonesia\\college\\semester 5\\natural language processing\\task2\\many-to-many\\myenv\\lib\\site-packages (from markdown-it-py>=2.2.0->rich->keras>=3.5.0->tensorflow-intel==2.18.0->tensorflow) (0.1.2)\n",
      "Note: you may need to restart the kernel to use updated packages.\n"
     ]
    },
    {
     "name": "stderr",
     "output_type": "stream",
     "text": [
      "\n",
      "[notice] A new release of pip is available: 24.2 -> 24.3.1\n",
      "[notice] To update, run: python.exe -m pip install --upgrade pip\n"
     ]
    }
   ],
   "source": [
    "%pip install tensorflow"
   ]
  },
  {
   "cell_type": "code",
   "execution_count": 2,
   "metadata": {},
   "outputs": [
    {
     "name": "stdout",
     "output_type": "stream",
     "text": [
      "Requirement already satisfied: scikit-learn in c:\\universitas pendidikan indonesia\\college\\semester 5\\natural language processing\\task2\\many-to-many\\myenv\\lib\\site-packages (1.5.2)\n",
      "Requirement already satisfied: numpy>=1.19.5 in c:\\universitas pendidikan indonesia\\college\\semester 5\\natural language processing\\task2\\many-to-many\\myenv\\lib\\site-packages (from scikit-learn) (2.0.2)\n",
      "Requirement already satisfied: scipy>=1.6.0 in c:\\universitas pendidikan indonesia\\college\\semester 5\\natural language processing\\task2\\many-to-many\\myenv\\lib\\site-packages (from scikit-learn) (1.14.1)\n",
      "Requirement already satisfied: joblib>=1.2.0 in c:\\universitas pendidikan indonesia\\college\\semester 5\\natural language processing\\task2\\many-to-many\\myenv\\lib\\site-packages (from scikit-learn) (1.4.2)\n",
      "Requirement already satisfied: threadpoolctl>=3.1.0 in c:\\universitas pendidikan indonesia\\college\\semester 5\\natural language processing\\task2\\many-to-many\\myenv\\lib\\site-packages (from scikit-learn) (3.5.0)\n",
      "Note: you may need to restart the kernel to use updated packages.\n"
     ]
    },
    {
     "name": "stderr",
     "output_type": "stream",
     "text": [
      "\n",
      "[notice] A new release of pip is available: 24.2 -> 24.3.1\n",
      "[notice] To update, run: python.exe -m pip install --upgrade pip\n"
     ]
    }
   ],
   "source": [
    "%pip install scikit-learn"
   ]
  },
  {
   "cell_type": "code",
   "execution_count": 3,
   "metadata": {
    "colab": {
     "base_uri": "https://localhost:8080/"
    },
    "id": "3rgcG-8O-QWn",
    "outputId": "2d60ea27-ebc7-45ca-de9a-63997479c815"
   },
   "outputs": [
    {
     "name": "stdout",
     "output_type": "stream",
     "text": [
      "Requirement already satisfied: numpy in c:\\universitas pendidikan indonesia\\college\\semester 5\\natural language processing\\task2\\many-to-many\\myenv\\lib\\site-packages (2.0.2)\n",
      "Requirement already satisfied: pandas in c:\\universitas pendidikan indonesia\\college\\semester 5\\natural language processing\\task2\\many-to-many\\myenv\\lib\\site-packages (2.2.3)\n",
      "Requirement already satisfied: nltk in c:\\universitas pendidikan indonesia\\college\\semester 5\\natural language processing\\task2\\many-to-many\\myenv\\lib\\site-packages (3.9.1)\n",
      "Requirement already satisfied: rouge-score in c:\\universitas pendidikan indonesia\\college\\semester 5\\natural language processing\\task2\\many-to-many\\myenv\\lib\\site-packages (0.1.2)\n",
      "Requirement already satisfied: matplotlib in c:\\universitas pendidikan indonesia\\college\\semester 5\\natural language processing\\task2\\many-to-many\\myenv\\lib\\site-packages (3.9.2)\n",
      "Requirement already satisfied: python-dateutil>=2.8.2 in c:\\universitas pendidikan indonesia\\college\\semester 5\\natural language processing\\task2\\many-to-many\\myenv\\lib\\site-packages (from pandas) (2.9.0.post0)\n",
      "Requirement already satisfied: pytz>=2020.1 in c:\\universitas pendidikan indonesia\\college\\semester 5\\natural language processing\\task2\\many-to-many\\myenv\\lib\\site-packages (from pandas) (2024.2)\n",
      "Requirement already satisfied: tzdata>=2022.7 in c:\\universitas pendidikan indonesia\\college\\semester 5\\natural language processing\\task2\\many-to-many\\myenv\\lib\\site-packages (from pandas) (2024.2)\n",
      "Requirement already satisfied: click in c:\\universitas pendidikan indonesia\\college\\semester 5\\natural language processing\\task2\\many-to-many\\myenv\\lib\\site-packages (from nltk) (8.1.7)\n",
      "Requirement already satisfied: joblib in c:\\universitas pendidikan indonesia\\college\\semester 5\\natural language processing\\task2\\many-to-many\\myenv\\lib\\site-packages (from nltk) (1.4.2)\n",
      "Requirement already satisfied: regex>=2021.8.3 in c:\\universitas pendidikan indonesia\\college\\semester 5\\natural language processing\\task2\\many-to-many\\myenv\\lib\\site-packages (from nltk) (2024.9.11)\n",
      "Requirement already satisfied: tqdm in c:\\universitas pendidikan indonesia\\college\\semester 5\\natural language processing\\task2\\many-to-many\\myenv\\lib\\site-packages (from nltk) (4.66.6)\n",
      "Requirement already satisfied: absl-py in c:\\universitas pendidikan indonesia\\college\\semester 5\\natural language processing\\task2\\many-to-many\\myenv\\lib\\site-packages (from rouge-score) (2.1.0)\n",
      "Requirement already satisfied: six>=1.14.0 in c:\\universitas pendidikan indonesia\\college\\semester 5\\natural language processing\\task2\\many-to-many\\myenv\\lib\\site-packages (from rouge-score) (1.16.0)\n",
      "Requirement already satisfied: contourpy>=1.0.1 in c:\\universitas pendidikan indonesia\\college\\semester 5\\natural language processing\\task2\\many-to-many\\myenv\\lib\\site-packages (from matplotlib) (1.3.0)\n",
      "Requirement already satisfied: cycler>=0.10 in c:\\universitas pendidikan indonesia\\college\\semester 5\\natural language processing\\task2\\many-to-many\\myenv\\lib\\site-packages (from matplotlib) (0.12.1)\n",
      "Requirement already satisfied: fonttools>=4.22.0 in c:\\universitas pendidikan indonesia\\college\\semester 5\\natural language processing\\task2\\many-to-many\\myenv\\lib\\site-packages (from matplotlib) (4.54.1)\n",
      "Requirement already satisfied: kiwisolver>=1.3.1 in c:\\universitas pendidikan indonesia\\college\\semester 5\\natural language processing\\task2\\many-to-many\\myenv\\lib\\site-packages (from matplotlib) (1.4.7)\n",
      "Requirement already satisfied: packaging>=20.0 in c:\\universitas pendidikan indonesia\\college\\semester 5\\natural language processing\\task2\\many-to-many\\myenv\\lib\\site-packages (from matplotlib) (24.1)\n",
      "Requirement already satisfied: pillow>=8 in c:\\universitas pendidikan indonesia\\college\\semester 5\\natural language processing\\task2\\many-to-many\\myenv\\lib\\site-packages (from matplotlib) (11.0.0)\n",
      "Requirement already satisfied: pyparsing>=2.3.1 in c:\\universitas pendidikan indonesia\\college\\semester 5\\natural language processing\\task2\\many-to-many\\myenv\\lib\\site-packages (from matplotlib) (3.2.0)\n",
      "Requirement already satisfied: colorama in c:\\universitas pendidikan indonesia\\college\\semester 5\\natural language processing\\task2\\many-to-many\\myenv\\lib\\site-packages (from click->nltk) (0.4.6)\n",
      "Note: you may need to restart the kernel to use updated packages.\n"
     ]
    },
    {
     "name": "stderr",
     "output_type": "stream",
     "text": [
      "\n",
      "[notice] A new release of pip is available: 24.2 -> 24.3.1\n",
      "[notice] To update, run: python.exe -m pip install --upgrade pip\n"
     ]
    }
   ],
   "source": [
    "%pip install numpy pandas nltk rouge-score matplotlib"
   ]
  },
  {
   "cell_type": "code",
   "execution_count": 4,
   "metadata": {
    "id": "ZDsKhjND_O4U"
   },
   "outputs": [],
   "source": [
    "import pandas as pd\n",
    "import numpy as np\n",
    "import matplotlib.pyplot as plt\n",
    "from tensorflow.keras.preprocessing.text import Tokenizer\n",
    "from tensorflow.keras.preprocessing.sequence import pad_sequences\n",
    "from tensorflow.keras.models import Sequential\n",
    "from tensorflow.keras.layers import Embedding, SimpleRNN, Dense, TimeDistributed, Masking\n",
    "from sklearn.model_selection import train_test_split"
   ]
  },
  {
   "cell_type": "markdown",
   "metadata": {},
   "source": []
  },
  {
   "cell_type": "code",
   "execution_count": 5,
   "metadata": {
    "colab": {
     "base_uri": "https://localhost:8080/",
     "height": 206
    },
    "id": "68gR0qxq_ESs",
    "outputId": "7bf770b5-9d0a-4fe2-fce8-f2b62c6a6fab"
   },
   "outputs": [
    {
     "data": {
      "text/html": [
       "<div>\n",
       "<style scoped>\n",
       "    .dataframe tbody tr th:only-of-type {\n",
       "        vertical-align: middle;\n",
       "    }\n",
       "\n",
       "    .dataframe tbody tr th {\n",
       "        vertical-align: top;\n",
       "    }\n",
       "\n",
       "    .dataframe thead th {\n",
       "        text-align: right;\n",
       "    }\n",
       "</style>\n",
       "<table border=\"1\" class=\"dataframe\">\n",
       "  <thead>\n",
       "    <tr style=\"text-align: right;\">\n",
       "      <th></th>\n",
       "      <th>clean_article</th>\n",
       "      <th>clean_summary</th>\n",
       "    </tr>\n",
       "  </thead>\n",
       "  <tbody>\n",
       "    <tr>\n",
       "      <th>0</th>\n",
       "      <td>Liputan6. com, Surabaya : Radiogram Direktorat...</td>\n",
       "      <td>Gubernur Jatim Imam Utomo tak mau melantik Bup...</td>\n",
       "    </tr>\n",
       "    <tr>\n",
       "      <th>1</th>\n",
       "      <td>Liputan6. com, Jakarta : Berbeda dengan aliran...</td>\n",
       "      <td>Pelukis RM Koestarto memamerkan hasil karyanya...</td>\n",
       "    </tr>\n",
       "    <tr>\n",
       "      <th>2</th>\n",
       "      <td>Liputan6. com, Jambi : Ratusan orang dari Kesa...</td>\n",
       "      <td>Dua kelompok pengunjuk rasa di Jambi, menuntut...</td>\n",
       "    </tr>\n",
       "    <tr>\n",
       "      <th>3</th>\n",
       "      <td>Liputan6. com, Jakarta : Badan Penyehatan Perb...</td>\n",
       "      <td>BPPN masih mengkaji bank rekap yang dianggap p...</td>\n",
       "    </tr>\n",
       "    <tr>\n",
       "      <th>4</th>\n",
       "      <td>Liputan6. com, Jakarta : Ketua Komisi I DPR Ya...</td>\n",
       "      <td>Kendati Dewan Papua membatalkan deklarasi keme...</td>\n",
       "    </tr>\n",
       "  </tbody>\n",
       "</table>\n",
       "</div>"
      ],
      "text/plain": [
       "                                       clean_article  \\\n",
       "0  Liputan6. com, Surabaya : Radiogram Direktorat...   \n",
       "1  Liputan6. com, Jakarta : Berbeda dengan aliran...   \n",
       "2  Liputan6. com, Jambi : Ratusan orang dari Kesa...   \n",
       "3  Liputan6. com, Jakarta : Badan Penyehatan Perb...   \n",
       "4  Liputan6. com, Jakarta : Ketua Komisi I DPR Ya...   \n",
       "\n",
       "                                       clean_summary  \n",
       "0  Gubernur Jatim Imam Utomo tak mau melantik Bup...  \n",
       "1  Pelukis RM Koestarto memamerkan hasil karyanya...  \n",
       "2  Dua kelompok pengunjuk rasa di Jambi, menuntut...  \n",
       "3  BPPN masih mengkaji bank rekap yang dianggap p...  \n",
       "4  Kendati Dewan Papua membatalkan deklarasi keme...  "
      ]
     },
     "execution_count": 5,
     "metadata": {},
     "output_type": "execute_result"
    }
   ],
   "source": [
    "# Memuat dataset\n",
    "df = pd.read_csv('liputan6.csv')\n",
    "df = df[['clean_article', 'clean_summary']]\n",
    "\n",
    "# Lihat contoh data\n",
    "df.head()"
   ]
  },
  {
   "cell_type": "code",
   "execution_count": 6,
   "metadata": {
    "colab": {
     "base_uri": "https://localhost:8080/"
    },
    "id": "Jm-j6CAgmI2G",
    "outputId": "621d8c1f-a680-42c2-ad7b-eeb6d8af2a49"
   },
   "outputs": [
    {
     "name": "stdout",
     "output_type": "stream",
     "text": [
      "Total data dalam dataset: 10972\n",
      "Total data di kolom 'clean_article': 10972\n",
      "Total data di kolom 'clean_summary': 10972\n",
      "Total dari kedua kolom (clean_article dan clean_summary): 21944\n",
      "\n",
      "Info Dataset:\n",
      "<class 'pandas.core.frame.DataFrame'>\n",
      "RangeIndex: 10972 entries, 0 to 10971\n",
      "Data columns (total 2 columns):\n",
      " #   Column         Non-Null Count  Dtype \n",
      "---  ------         --------------  ----- \n",
      " 0   clean_article  10972 non-null  object\n",
      " 1   clean_summary  10972 non-null  object\n",
      "dtypes: object(2)\n",
      "memory usage: 171.6+ KB\n"
     ]
    }
   ],
   "source": [
    "# Menampilkan jumlah total data dalam dataset\n",
    "print(\"Total data dalam dataset:\", len(df))\n",
    "\n",
    "# Menampilkan jumlah data yang ada di setiap kolom 'clean_article' dan 'clean_summary'\n",
    "print(\"Total data di kolom 'clean_article':\", df['clean_article'].notnull().sum())\n",
    "print(\"Total data di kolom 'clean_summary':\", df['clean_summary'].notnull().sum())\n",
    "\n",
    "# Menjumlahkan total data non-null dari kedua kolom\n",
    "total_non_null = df['clean_article'].notnull().sum() + df['clean_summary'].notnull().sum()\n",
    "print(\"Total dari kedua kolom (clean_article dan clean_summary):\", total_non_null)\n",
    "\n",
    "# Menampilkan informasi jumlah kolom dan jenis data\n",
    "print(\"\\nInfo Dataset:\")\n",
    "df.info()"
   ]
  },
  {
   "cell_type": "code",
   "execution_count": 7,
   "metadata": {
    "id": "sOLqInd7AmBD"
   },
   "outputs": [],
   "source": [
    "# Menggunakan Tokenizer untuk teks\n",
    "tokenizer = Tokenizer()\n",
    "tokenizer.fit_on_texts(df['clean_article'].tolist() + df['clean_summary'].tolist())\n",
    "\n",
    "# Konversi teks menjadi sequences\n",
    "input_sequences = tokenizer.texts_to_sequences(df['clean_article'].tolist())\n",
    "target_sequences = tokenizer.texts_to_sequences(df['clean_summary'].tolist())\n",
    "\n",
    "# Padding sequences untuk memastikan panjangnya seragam\n",
    "max_input_len = 500  # Batasi panjang maksimum input sequence\n",
    "max_target_len = 50  # Batasi panjang maksimum target sequence\n",
    "\n",
    "# Padding sequences untuk memastikan panjangnya seragam\n",
    "input_sequences = pad_sequences(input_sequences, maxlen=max_input_len, padding='post')\n",
    "target_sequences = pad_sequences(target_sequences, maxlen=max_target_len, padding='post')\n",
    "\n",
    "# Mendapatkan ukuran vocabulary\n",
    "vocab_size = len(tokenizer.word_index) + 1"
   ]
  },
  {
   "cell_type": "code",
   "execution_count": null,
   "metadata": {
    "colab": {
     "base_uri": "https://localhost:8080/"
    },
    "id": "o0TSJcbgA4NH",
    "outputId": "0e4604db-d7ad-4ac1-a995-16d58f9a9951"
   },
   "outputs": [
    {
     "name": "stdout",
     "output_type": "stream",
     "text": [
      "Panjang input sequences: 500\n",
      "Panjang target sequences: 50\n",
      "Epoch 1/10\n",
      "\u001b[1m 13/275\u001b[0m \u001b[37m━━━━━━━━━━━━━━━━━━━━\u001b[0m \u001b[1m11:36:56\u001b[0m 160s/step - accuracy: 0.3828 - loss: 10.5258"
     ]
    }
   ],
   "source": [
    "# Periksa panjang input dan target sequences yang sudah diproses\n",
    "print(\"Panjang input sequences:\", max_input_len)\n",
    "print(\"Panjang target sequences:\", max_target_len)\n",
    "\n",
    "# Model dengan validasi\n",
    "X_train, X_val, y_train, y_val = train_test_split(input_sequences, target_sequences, test_size=0.2, random_state=42)\n",
    "\n",
    "# Menggunakan `max_input_len` untuk padding\n",
    "y_train = pad_sequences(y_train, maxlen=max_input_len, padding='post')\n",
    "y_val = pad_sequences(y_val, maxlen=max_input_len, padding='post')\n",
    "\n",
    "# Model\n",
    "model = Sequential()\n",
    "model.add(Embedding(input_dim=vocab_size, output_dim=64))\n",
    "model.add(SimpleRNN(64, return_sequences=True))\n",
    "model.add(TimeDistributed(Dense(vocab_size, activation='softmax')))\n",
    "model.compile(optimizer='adam', loss='sparse_categorical_crossentropy', metrics=['accuracy'])\n",
    "\n",
    "# Melatih model dengan validasi\n",
    "history = model.fit(X_train, y_train, epochs=10, batch_size=32, validation_data=(X_val, y_val))\n"
   ]
  },
  {
   "cell_type": "code",
   "execution_count": null,
   "metadata": {
    "colab": {
     "base_uri": "https://localhost:8080/",
     "height": 314
    },
    "id": "cXooL8pnD_ej",
    "outputId": "30df34aa-3fe2-46e8-aaa2-c4db266f5726"
   },
   "outputs": [],
   "source": [
    "# Plotting Loss dan Accuracy\n",
    "plt.figure(figsize=(12, 4))\n",
    "plt.subplot(1, 2, 1)\n",
    "plt.plot(history.history['loss'], label='Loss')\n",
    "plt.plot(history.history['val_loss'], label='Validation Loss')\n",
    "plt.title('Training and Validation Loss')\n",
    "plt.xlabel('Epoch')\n",
    "plt.ylabel('Loss')\n",
    "plt.legend()\n",
    "\n",
    "plt.subplot(1, 2, 2)\n",
    "plt.plot(history.history['accuracy'], label='Accuracy')\n",
    "plt.plot(history.history['val_accuracy'], label='Validation Accuracy')\n",
    "plt.title('Training and Validation Accuracy')\n",
    "plt.xlabel('Epoch')\n",
    "plt.ylabel('Accuracy')\n",
    "plt.legend()\n",
    "plt.show()"
   ]
  },
  {
   "cell_type": "code",
   "execution_count": null,
   "metadata": {
    "colab": {
     "base_uri": "https://localhost:8080/"
    },
    "id": "G3Vub1QSLx1u",
    "outputId": "e3d0e324-3be7-4988-9e0c-6294163033b9"
   },
   "outputs": [],
   "source": [
    "def summarize_text(input_text):\n",
    "    # Proses teks input\n",
    "    input_seq = tokenizer.texts_to_sequences([input_text])\n",
    "    input_seq = pad_sequences(input_seq, maxlen=max_input_len, padding='post')\n",
    "\n",
    "    # Prediksi output\n",
    "    predicted_seq = model.predict(input_seq)\n",
    "    predicted_seq = np.argmax(predicted_seq, axis=-1)[0]  # Ambil indeks dengan probabilitas tertinggi\n",
    "\n",
    "    # Konversi output menjadi teks\n",
    "    summary = ' '.join(tokenizer.index_word[idx] for idx in predicted_seq if idx > 0)\n",
    "    return summary\n",
    "\n",
    "# Mengambil input dari pengguna dan menampilkan ringkasan\n",
    "input_text = input(\"Masukkan teks yang ingin diringkas: \")\n",
    "ringkasan = summarize_text(input_text)\n",
    "print(\"Ringkasan:\", ringkasan)"
   ]
  }
 ],
 "metadata": {
  "accelerator": "TPU",
  "colab": {
   "gpuType": "V28",
   "provenance": []
  },
  "kernelspec": {
   "display_name": "myenv",
   "language": "python",
   "name": "python3"
  },
  "language_info": {
   "codemirror_mode": {
    "name": "ipython",
    "version": 3
   },
   "file_extension": ".py",
   "mimetype": "text/x-python",
   "name": "python",
   "nbconvert_exporter": "python",
   "pygments_lexer": "ipython3",
   "version": "3.12.7"
  }
 },
 "nbformat": 4,
 "nbformat_minor": 4
}
